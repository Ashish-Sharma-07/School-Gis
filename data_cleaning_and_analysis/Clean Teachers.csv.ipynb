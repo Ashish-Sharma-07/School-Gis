{
 "cells": [
  {
   "cell_type": "code",
   "execution_count": 6,
   "metadata": {},
   "outputs": [],
   "source": [
    "output_file = \"/home/flash/Desktop/MegaNz/2014-15/rti_schools_maha.csv\"\n",
    "input_file = \"/home/flash/Desktop/Qgis Maps/centroid_schools_maha.csv\""
   ]
  },
  {
   "cell_type": "code",
   "execution_count": 7,
   "metadata": {},
   "outputs": [
    {
     "name": "stdout",
     "output_type": "stream",
     "text": [
      "['WKT', 'area_name', 'blockname', 'census_201', 'disname', 'district_n', 'highclass', 'lowclass', 'medium', 'pincode', 'preprima_1', 'preprimary', 'schcategor', 'schoolname', 'taluka_nam', 'udisecode', 'villagenam']\n"
     ]
    }
   ],
   "source": [
    "import csv\n",
    "udisecode = []\n",
    "with open(output_file,'w') as writer:\n",
    "    with open(input_file,'r') as reader:\n",
    "        dcreader  = csv.DictReader(reader)\n",
    "        # get header\n",
    "        get_head = next(dcreader).keys()\n",
    "        get_head.sort()\n",
    "        print get_head\n",
    "\n",
    "    with open(input_file,'r') as reader:\n",
    "        #write header\n",
    "        dcwriter = csv.DictWriter(writer,fieldnames=get_head)\n",
    "        dcwriter.writeheader()\n",
    "        dcreader = csv.DictReader(reader)\n",
    "        for line in dcreader:\n",
    "            if line['udisecode'] in udisecode:\n",
    "                continue\n",
    "            else:\n",
    "                udisecode += [line['udisecode']]\n",
    "                dcwriter.writerow(line)"
   ]
  },
  {
   "cell_type": "code",
   "execution_count": 101,
   "metadata": {},
   "outputs": [
    {
     "name": "stdout",
     "output_type": "stream",
     "text": [
      "['AC_YEAR', 'APPOINTSUB', 'CASTE', 'CATEGORY', 'CLS_TAUGHT', 'CWSNTRAINED_YN', 'DISABILITY_TYPE', 'DOB', 'MAIN_TAUGHT1', 'MAIN_TAUGHT2', 'MATH_UPTO', 'NONTCH_ASS', 'POST_STATUS', 'QUAL_ACAD', 'QUAL_PROF', 'SCHCD', 'SCIENCEUPTO', 'SEX', 'SLNO', 'TCHCD', 'TCHNAME', 'TRN_BRC', 'TRN_CRC', 'TRN_DIET', 'TRN_OTHER', 'WORKINGSINCE', 'YOJ']\n"
     ]
    }
   ],
   "source": [
    "input_file = \"/home/flash/Desktop/MegaNz/2014-15_cleaned/cleaned_teachers_01.csv\"\n",
    "output_file = \"/home/flash/Desktop/MegaNz/2014-15_cleaned/cleaned_teachers_002.csv\"\n",
    "import csv\n",
    "with open(output_file,'w') as writer:\n",
    "    with open(input_file,'r') as reader:\n",
    "        dcreader  = csv.DictReader(reader)\n",
    "        # get header\n",
    "        get_head = next(dcreader).keys()\n",
    "        get_head.sort()\n",
    "        print get_head\n",
    "    \n",
    "    head = ['AC_YEAR', 'APPOINTSUB', 'CASTE', 'CATEGORY', 'CLS_TAUGHT', 'CWSNTRAINED_YN', 'DISABILITY_TYPE', 'DOB', 'MAIN_TAUGHT1', 'MAIN_TAUGHT2', 'MATH_UPTO', 'NONTCH_ASS', 'POST_STATUS', 'QUAL_ACAD', 'QUAL_PROF', 'SCHCD', 'SCIENCEUPTO', 'SEX', 'SLNO', 'TCHCD', 'TCHNAME', 'TRN_BRC', 'TRN_CRC', 'TRN_DIET', 'TRN_OTHER', 'WORKINGSINCE', 'YOJ']\n",
    "    import re\n",
    "    with open(input_file,'r') as reader:\n",
    "        #write header\n",
    "        dcwriter = csv.DictWriter(writer,fieldnames=get_head)\n",
    "        dcwriter.writeheader()\n",
    "        dcreader = csv.DictReader(reader)\n",
    "        for line in dcreader:\n",
    "            if len(line.values())!=len(head):\n",
    "                continue\n",
    "            dcwriter.writerow(line)"
   ]
  },
  {
   "cell_type": "code",
   "execution_count": 1,
   "metadata": {},
   "outputs": [
    {
     "name": "stdout",
     "output_type": "stream",
     "text": [
      "['AC_YEAR', 'APPOINTSUB', 'CASTE', 'CATEGORY', 'CLS_TAUGHT', 'CWSNTRAINED_YN', 'DISABILITY_TYPE', 'DOB', 'MAIN_TAUGHT1', 'MAIN_TAUGHT2', 'MATH_UPTO', 'NONTCH_ASS', 'POST_STATUS', 'QUAL_ACAD', 'QUAL_PROF', 'SCHCD', 'SCIENCEUPTO', 'SEX', 'SLNO', 'TCHCD', 'TCHNAME', 'TRN_BRC', 'TRN_CRC', 'TRN_DIET', 'TRN_OTHER', 'WORKINGSINCE', 'YOJ']\n",
      "{'DOB': '02-06-74', 'SCHCD': '27310708902', 'TCHNAME': 'PATIL  PRATIBHA BALAVANT', 'TCHCD': '05', 'AC_YEAR': '2014-15', 'APPOINTSUB': '1', 'CASTE': '5', 'POST_STATUS': '1', 'TRN_OTHER': '0', 'SEX': '2', 'TRN_CRC': '0', 'CLS_TAUGHT': '1', 'SCIENCEUPTO': '2', 'MAIN_TAUGHT1': '1', 'CWSNTRAINED_YN': '2', 'MAIN_TAUGHT2': '', 'YOJ': '1993-78', 'WORKINGSINCE': '2007', None: ['1', '', '2', '0', '1', '4', '1', '27310708902', '4', '1', '2', '02', 'GAWADE DATTATRAY SOPANRAO', '0', '0', '0', '0', '2013', '2001'], 'QUAL_PROF': '1', 'DISABILITY_TYPE': '1', 'CATEGORY': '3', 'TRN_DIET': '0', 'TRN_BRC': '0', 'QUAL_ACAD': '4', 'MATH_UPTO': '2', 'NONTCH_ASS': '0', 'SLNO': '6'}\n"
     ]
    }
   ],
   "source": [
    "import csv\n",
    "input_file = \"/home/flash/Desktop/MegaNz/2014-15_cleaned/cln_tch_utf_08.csv\"\n",
    "output_file = \"/home/flash/Desktop/MegaNz/2014-15_cleaned/cln_tch_utf_08_final.csv\"\n",
    "\n",
    "with open(output_file,'w') as writer:\n",
    "    with open(input_file,'r') as reader:\n",
    "        dcreader  = csv.DictReader(reader)\n",
    "        # get header\n",
    "        get_head = next(dcreader).keys()\n",
    "        get_head.sort()\n",
    "        print get_head\n",
    "    \n",
    "    with open(input_file,'r') as reader:\n",
    "        #write header\n",
    "        dcwriter = csv.DictWriter(writer,fieldnames=get_head)\n",
    "        dcwriter.writeheader()\n",
    "        dcreader = csv.DictReader(reader)\n",
    "        for line in dcreader:\n",
    "            if len(line.keys())!= len(get_head):\n",
    "                print line\n",
    "                continue\n",
    "            dcwriter.writerow(line)"
   ]
  },
  {
   "cell_type": "code",
   "execution_count": 3,
   "metadata": {},
   "outputs": [
    {
     "name": "stdout",
     "output_type": "stream",
     "text": [
      "['ANGANWADI_STU', 'ANGANWADI_TCH', 'ANGANWADI_YN', 'APPROACHBYROAD', 'ASSEMBLY_CONSTITUENCY', 'BLOCKCD', 'BLOCK_NAME', 'BOARDHSEC', 'BOARDSEC', 'CITY', 'CITYNAME', 'CONTI_E', 'CONTI_R', 'CUSTER_NAME', 'CWSNSCH_YN', 'DISTNAME', 'DISTS', 'DISTU', 'EDUVOCGUIDE_YN', 'EDU_BLOCK', 'ESTDYEAR', 'HABITATION_NAME', 'HIGHCLASS', 'HSEC_RESI_SCHOOL_YN', 'INSTR_RTE_UP', 'LANG1', 'LANG2', 'LANG3', 'LATDEG', 'LATMIN', 'LATSEC', 'LONDEG', 'LONMIN', 'LONSEC', 'LOWCLASS', 'MEDH1', 'MEDH2', 'MEDH3', 'MEDH4', 'MEDINSTR1', 'MEDINSTR2', 'MEDINSTR3', 'MEDINSTR4', 'MEDS1', 'MEDS2', 'MEDS3', 'MEDS4', 'MTONGUE_YN', 'MUNCD', 'MUNICIPALITY', 'NOINSPECT', 'OSRC_E', 'OSRC_R', 'PANCHAYAT', 'PAR_IN_POS_HSEC', 'PAR_IN_POS_P', 'PAR_IN_POS_SEC', 'PAR_IN_POS_UP', 'PINCD', 'PPSEC_YN', 'PPSTUDENT', 'PPTEACHER', 'PREVOCCOURSE_YN', 'PRI_RESI_SCHOOL_YN', 'REG_IN_POS_HSEC', 'REG_IN_POS_P', 'REG_IN_POS_SEC', 'REG_IN_POS_UP', 'REG_TCH_SAN_HSEC', 'REG_TCH_SAN_P', 'REG_TCH_SAN_SEC', 'REG_TCH_SAN_UP', 'RELMINORITY_TYPE', 'RELMINORITY_YN', 'RESIDENTIAL_TYPE', 'RURURB', 'SCHCD', 'SCHMGT', 'SCHOOL_NAME', 'SCHTYPE', 'SCH_CATEGORY', 'SEC_RESI_SCHOOL_YN', 'SHIFT_YN', 'SMG_E', 'SMG_R', 'STATNAME', 'TLM_E', 'TLM_R', 'UPGRAD_SEC', 'UPGRAD_UP', 'UP_RESI_SCHOOL_YN', 'VILLAGE', 'VISITSBRC', 'VISITSCRC', 'VISITSRTCWSN', 'YEARRECOG', 'YEARRECOGH', 'YEARRECOGS', 'YEARUPGRDH']\n"
     ]
    }
   ],
   "source": [
    "import csv\n",
    "input_file = \"/home/flash/Desktop/MegaNz/2014-15/SchoolParticulars_2014-15.csv\"\n",
    "output_file = \"/home/flash/Desktop/MegaNz/2014-15_cleaned/SchoolParticulars.csv\"\n",
    "dump_file = \"/home/flash/Desktop/MegaNz/2014-15_cleaned/SchoolParticulars.csv\"\n",
    "with open(output_file,'w') as writer:\n",
    "    with open(input_file,'r') as reader:\n",
    "        dcreader  = csv.DictReader(reader)\n",
    "        # get header\n",
    "        get_head = next(dcreader).keys()\n",
    "        get_head.sort()\n",
    "        print get_head\n",
    "    import re\n",
    "    with open(input_file,'r') as reader:\n",
    "        #write header\n",
    "        dcwriter = csv.DictWriter(writer,fieldnames=get_head)\n",
    "        dcwriter.writeheader()\n",
    "        dcreader = csv.DictReader(reader)\n",
    "        for line in dcreader:\n",
    "            for h in get_head:\n",
    "                line[h] = line[h].strip(\" \")\n",
    "                line[h] = line[h].strip('\"')\n",
    "                line[h] = line[h].strip(\"'\")\n",
    "                line[h] = line[h].strip(\";\")\n",
    "                line[h] = line[h].strip(\",\")\n",
    "                if '\"' in line[h]:\n",
    "                    line[h] = re.sub(r'(\")','\\\\\\\\\"',line[h])\n",
    "                if '\\'' in line[h]:\n",
    "                    line[h] = re.sub(r'\\'','\\\\\\'',line[h])\n",
    "            if len(line.keys())!= len(get_head):\n",
    "                with open(dump_file,'a+') as writer:\n",
    "                    writer.write(line)\n",
    "                continue\n",
    "            dcwriter.writerow(line)"
   ]
  },
  {
   "cell_type": "code",
   "execution_count": null,
   "metadata": {},
   "outputs": [],
   "source": []
  }
 ],
 "metadata": {
  "kernelspec": {
   "display_name": "Python 2",
   "language": "python",
   "name": "python2"
  },
  "language_info": {
   "codemirror_mode": {
    "name": "ipython",
    "version": 2
   },
   "file_extension": ".py",
   "mimetype": "text/x-python",
   "name": "python",
   "nbconvert_exporter": "python",
   "pygments_lexer": "ipython2",
   "version": "2.7.12"
  }
 },
 "nbformat": 4,
 "nbformat_minor": 2
}
